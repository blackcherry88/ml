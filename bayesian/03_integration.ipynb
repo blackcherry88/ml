{
 "cells": [
  {
   "cell_type": "code",
   "execution_count": 12,
   "id": "5f32a594",
   "metadata": {},
   "outputs": [],
   "source": [
    "import numpy as np\n",
    "import scipy.integrate as integrate\n",
    "import scipy.special as sp\n",
    "import scipy.stats as st"
   ]
  },
  {
   "cell_type": "code",
   "execution_count": 6,
   "id": "b01cecc1",
   "metadata": {},
   "outputs": [
    {
     "data": {
      "text/plain": [
       "0.0027613609456903247"
      ]
     },
     "execution_count": 6,
     "metadata": {},
     "output_type": "execute_result"
    }
   ],
   "source": [
    "def integrand(t, n, x):\n",
    "    return np.exp(-x*t) / t**n\n",
    "\n",
    "def expint(n, x):\n",
    "    return integrate.quad(integrand, 1, np.inf, args=(n, x))[0]\n",
    "\n",
    "expint(3, 4)"
   ]
  },
  {
   "cell_type": "code",
   "execution_count": 25,
   "id": "0168effa",
   "metadata": {},
   "outputs": [],
   "source": [
    "def moments_logit(X, y, m, v):\n",
    "    sd = np.sqrt(v)\n",
    "    def logit_dense(w):\n",
    "        return st.norm.pdf(w, m, v)*st.logistic.pdf(y*w*X)\n",
    "\n",
    "    z = integrate.quad(logit_dense, -np.inf, np.inf)\n",
    "    m_new, err = integrate.quad(lambda w: logit_dense(w)*w, -np.inf, np.inf)\n",
    "    v_new, err = integrate.quad(lambda w: logit_dense(w)*(w-m_new)**2, \n",
    "                           -np.inf, np.inf)\n",
    "    return m_new, v_new\n"
   ]
  },
  {
   "cell_type": "code",
   "execution_count": 26,
   "id": "1b5c80ad",
   "metadata": {},
   "outputs": [
    {
     "data": {
      "text/plain": [
       "(0.0, 0.2427405244715869)"
      ]
     },
     "execution_count": 26,
     "metadata": {},
     "output_type": "execute_result"
    }
   ],
   "source": [
    "m = 0\n",
    "v = 1\n",
    "moments_logit(0.2, 1, m, v)"
   ]
  },
  {
   "cell_type": "code",
   "execution_count": null,
   "id": "41edcd3f",
   "metadata": {},
   "outputs": [],
   "source": []
  }
 ],
 "metadata": {
  "kernelspec": {
   "display_name": "Python 3 (ipykernel)",
   "language": "python",
   "name": "python3"
  },
  "language_info": {
   "codemirror_mode": {
    "name": "ipython",
    "version": 3
   },
   "file_extension": ".py",
   "mimetype": "text/x-python",
   "name": "python",
   "nbconvert_exporter": "python",
   "pygments_lexer": "ipython3",
   "version": "3.8.13"
  }
 },
 "nbformat": 4,
 "nbformat_minor": 5
}
