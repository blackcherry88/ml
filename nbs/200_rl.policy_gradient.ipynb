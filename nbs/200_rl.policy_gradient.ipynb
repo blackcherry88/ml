{
 "cells": [
  {
   "cell_type": "code",
   "execution_count": 1,
   "id": "1c4f3aba",
   "metadata": {},
   "outputs": [],
   "source": [
    "%load_ext autoreload\n",
    "%autoreload 2"
   ]
  },
  {
   "cell_type": "code",
   "execution_count": 2,
   "id": "0ebd65c3",
   "metadata": {},
   "outputs": [
    {
     "name": "stderr",
     "output_type": "stream",
     "text": [
      "/home/taohu88/miniconda3/envs/pymc/lib/python3.10/site-packages/gym/utils/passive_env_checker.py:97: UserWarning: \u001b[33mWARN: We recommend you to use a symmetric and normalized Box action space (range=[-1, 1]) https://stable-baselines3.readthedocs.io/en/master/guide/rl_tips.html\u001b[0m\n",
      "  logger.warn(\n"
     ]
    }
   ],
   "source": [
    "import gym\n",
    "env = gym.make('CartPole-v1')"
   ]
  },
  {
   "cell_type": "code",
   "execution_count": 3,
   "id": "5731f164",
   "metadata": {},
   "outputs": [
    {
     "data": {
      "text/plain": [
       "(4,)"
      ]
     },
     "execution_count": 3,
     "metadata": {},
     "output_type": "execute_result"
    }
   ],
   "source": [
    "env.observation_space.shape"
   ]
  },
  {
   "cell_type": "code",
   "execution_count": 4,
   "id": "301e8887",
   "metadata": {},
   "outputs": [
    {
     "data": {
      "text/plain": [
       "Discrete(2)"
      ]
     },
     "execution_count": 4,
     "metadata": {},
     "output_type": "execute_result"
    }
   ],
   "source": [
    "env.action_space"
   ]
  },
  {
   "cell_type": "code",
   "execution_count": 5,
   "id": "7abc6ef1",
   "metadata": {},
   "outputs": [],
   "source": [
    "import numpy as np\n",
    "\n",
    "def sigmoid(x):\n",
    "    # definition of logistic function\n",
    "    return 1/(1 + np.exp(-x))\n",
    "\n",
    "\n",
    "def grad_log_p_v1(theta, x):\n",
    "    # calculate grad-log-probs\n",
    "\n",
    "    y = x @ theta\n",
    "    grad_log_p0 = x - x * sigmoid(y)\n",
    "    grad_log_p1 = - x * sigmoid(y)\n",
    "\n",
    "    return grad_log_p0, grad_log_p1"
   ]
  },
  {
   "cell_type": "code",
   "execution_count": 19,
   "id": "eb2524f0",
   "metadata": {},
   "outputs": [
    {
     "name": "stderr",
     "output_type": "stream",
     "text": [
      "/home/taohu88/miniconda3/envs/pymc/lib/python3.10/site-packages/flatbuffers/compat.py:19: DeprecationWarning: the imp module is deprecated in favour of importlib and slated for removal in Python 3.12; see the module's documentation for alternative uses\n",
      "  import imp\n",
      "WARNING:absl:No GPU/TPU found, falling back to CPU. (Set TF_CPP_MIN_LOG_LEVEL=0 and rerun for more info.)\n"
     ]
    },
    {
     "data": {
      "text/plain": [
       "(DeviceArray(0.95257413, dtype=float32),\n",
       " DeviceArray(-0.04858735, dtype=float32),\n",
       " (array([0.04742587, 0.09485175], dtype=float32),\n",
       "  array([-0.95257413, -1.9051483 ], dtype=float32)))"
      ]
     },
     "execution_count": 19,
     "metadata": {},
     "output_type": "execute_result"
    }
   ],
   "source": [
    "import jax\n",
    "import jax.numpy as jnp\n",
    "import jax.nn as nn\n",
    "\n",
    "\n",
    "# we only use jax for gradient\n",
    "@jax.jit\n",
    "def log_sigmoid(theta, x):\n",
    "    y = x @ theta\n",
    "    return nn.log_sigmoid(y)\n",
    "\n",
    "@jax.jit\n",
    "def grad_log_p_helper(theta, x):\n",
    "    theta = jnp.array(theta)\n",
    "    x = jnp.array(x)\n",
    "    grad_log_p0 = jax.grad(log_sigmoid, argnums=0)(theta, x)\n",
    "    # grad_log_p1 = jax.grad(log_sigmoid, argnums=0)(theta, -x)\n",
    "    return grad_log_p0, grad_log_p0 - x\n",
    "\n",
    "\n",
    "def grad_log_p(theta, x):\n",
    "    grad_log_p0, grad_log_p1 = grad_log_p_helper(theta, x)\n",
    "    return np.array(grad_log_p0), np.array(grad_log_p1)\n",
    "\n",
    "\n",
    "theta = jnp.array((1.0, 1.0))\n",
    "x = jnp.array((1.0, 2.0))\n",
    "\n",
    "nn.sigmoid(x@theta), nn.log_sigmoid(x@theta), grad_log_p(theta, x)\n"
   ]
  },
  {
   "cell_type": "code",
   "execution_count": 7,
   "id": "ff3b1039",
   "metadata": {},
   "outputs": [],
   "source": [
    "def discount_rewards(rewards, gamma=1.0):\n",
    "    # calculate temporally adjusted, discounted rewards\n",
    "    discounted_rewards = np.zeros(len(rewards))\n",
    "    cumulative_rewards = 0\n",
    "    for i in reversed(range(0, len(rewards))):\n",
    "        cumulative_rewards = cumulative_rewards * gamma + rewards[i]\n",
    "        discounted_rewards[i] = cumulative_rewards\n",
    "\n",
    "    return discounted_rewards"
   ]
  },
  {
   "cell_type": "code",
   "execution_count": 26,
   "id": "7a88d584",
   "metadata": {},
   "outputs": [],
   "source": [
    "class LogisticPolicy:\n",
    "\n",
    "    def __init__(self, alpha, gamma, ob_sz):\n",
    "        self.theta = np.random.rand(*ob_sz)\n",
    "        self.alpha = alpha\n",
    "        self.gamma = gamma\n",
    "\n",
    "    def probs(self, x):\n",
    "        # returns probabilities of two actions\n",
    "        y = x @ self.theta\n",
    "        prob0 = sigmoid(y)\n",
    "        return [prob0, 1-prob0]\n",
    "\n",
    "    def act(self, x):\n",
    "        # sample an action in proportion to probabilities\n",
    "        probs = self.probs(x)\n",
    "        action = np.random.choice([0, 1], p=probs)\n",
    "        return action, probs[action]\n",
    "    \n",
    "\n",
    "    def update(self, rewards, obs, actions):\n",
    "        # calculate gradients for each action over all observations\n",
    "        grads = np.array([grad_log_p_v1(self.theta, ob)[action] for ob,action in zip(obs,actions)])\n",
    "\n",
    "        assert grads.shape == (len(obs), 4)\n",
    "\n",
    "        # calculate temporaly adjusted, discounted rewards\n",
    "        discounted_rewards = discount_rewards(rewards, self.gamma)\n",
    "\n",
    "        # gradients times rewards\n",
    "        dot = grads.T @ discounted_rewards\n",
    "\n",
    "        # gradient ascent on parameters\n",
    "        self.theta += self.alpha*dot\n"
   ]
  },
  {
   "cell_type": "code",
   "execution_count": 27,
   "id": "6dfdfe40",
   "metadata": {},
   "outputs": [],
   "source": [
    "def run_episode(env, policy, render=False):\n",
    "\n",
    "    observation = env.reset()\n",
    "    totalreward = 0\n",
    "\n",
    "    observations = []\n",
    "    actions = []\n",
    "    rewards = []\n",
    "    probs = []\n",
    "\n",
    "    done = False\n",
    "\n",
    "    while not done:\n",
    "        if render:\n",
    "            env.render()\n",
    "\n",
    "        observations.append(observation)\n",
    "\n",
    "        action, prob = policy.act(observation)\n",
    "        observation, reward, done, info = env.step(np.array(action))\n",
    "\n",
    "        totalreward += reward\n",
    "        rewards.append(reward)\n",
    "        actions.append(action)\n",
    "        probs.append(prob)\n",
    "\n",
    "    return totalreward, np.array(rewards),  \\\n",
    "            np.array(observations), np.array(actions), np.array(probs)"
   ]
  },
  {
   "cell_type": "code",
   "execution_count": 28,
   "id": "a17bb301",
   "metadata": {},
   "outputs": [],
   "source": [
    "from gym.wrappers import RecordEpisodeStatistics\n",
    "\n",
    "    \n",
    "def train(alpha, gamma, Policy, MAX_EPISODES=1000, seed=None):\n",
    "\n",
    "    # initialize environment and policy\n",
    "    env = gym.make('CartPole-v1')\n",
    "    if seed is not None:\n",
    "        env.seed(seed)\n",
    "    episode_rewards = []\n",
    "    policy = Policy(alpha, gamma, env.observation_space.shape)\n",
    "\n",
    "    # train until MAX_EPISODES\n",
    "    for i in range(MAX_EPISODES):\n",
    "\n",
    "        # run a single episode\n",
    "        total_reward, rewards, observations, actions, probs = run_episode(env, policy)\n",
    "\n",
    "        # keep track of episode rewards\n",
    "        episode_rewards.append(total_reward)\n",
    "\n",
    "        # update policy\n",
    "        policy.update(rewards, observations, actions)\n",
    "        print(\"EP: \" + str(i) + \" Score: \" + str(total_reward) + \" \",end=\"\\r\", flush=False)\n",
    "\n",
    "    return episode_rewards, policy"
   ]
  },
  {
   "cell_type": "code",
   "execution_count": 29,
   "id": "ae9eb7d6",
   "metadata": {},
   "outputs": [
    {
     "name": "stdout",
     "output_type": "stream",
     "text": [
      "CPU times: user 42.3 s, sys: 797 ms, total: 43.1 s\n",
      "Wall time: 42.4 s\n"
     ]
    }
   ],
   "source": [
    "%%time\n",
    "# for reproducibility\n",
    "GLOBAL_SEED = 200\n",
    "\n",
    "episode_rewards, policy = train(alpha=0.002,\n",
    "                                gamma=1,\n",
    "                                Policy=LogisticPolicy,\n",
    "                                MAX_EPISODES=2000,\n",
    "                                seed=GLOBAL_SEED)\n"
   ]
  },
  {
   "cell_type": "code",
   "execution_count": 25,
   "id": "8b97375d",
   "metadata": {},
   "outputs": [
    {
     "data": {
      "image/png": "[encoded data removed]",
      "text/plain": [
       "<Figure size 432x288 with 1 Axes>"
      ]
     },
     "metadata": {
      "needs_background": "light"
     },
     "output_type": "display_data"
    }
   ],
   "source": [
    "%matplotlib inline\n",
    "import matplotlib.pyplot as plt\n",
    "\n",
    "plt.plot(episode_rewards);"
   ]
  },
  {
   "cell_type": "code",
   "execution_count": 16,
   "id": "96033bd1",
   "metadata": {
    "scrolled": true
   },
   "outputs": [
    {
     "data": {
      "text/plain": [
       "(500.0,\n",
       " array([1., 1., 1., 1., 1., 1., 1., 1., 1., 1., 1., 1., 1., 1., 1., 1., 1.,\n",
       "        1., 1., 1., 1., 1., 1., 1., 1., 1., 1., 1., 1., 1., 1., 1., 1., 1.,\n",
       "        1., 1., 1., 1., 1., 1., 1., 1., 1., 1., 1., 1., 1., 1., 1., 1., 1.,\n",
       "        1., 1., 1., 1., 1., 1., 1., 1., 1., 1., 1., 1., 1., 1., 1., 1., 1.,\n",
       "        1., 1., 1., 1., 1., 1., 1., 1., 1., 1., 1., 1., 1., 1., 1., 1., 1.,\n",
       "        1., 1., 1., 1., 1., 1., 1., 1., 1., 1., 1., 1., 1., 1., 1., 1., 1.,\n",
       "        1., 1., 1., 1., 1., 1., 1., 1., 1., 1., 1., 1., 1., 1., 1., 1., 1.,\n",
       "        1., 1., 1., 1., 1., 1., 1., 1., 1., 1., 1., 1., 1., 1., 1., 1., 1.,\n",
       "        1., 1., 1., 1., 1., 1., 1., 1., 1., 1., 1., 1., 1., 1., 1., 1., 1.,\n",
       "        1., 1., 1., 1., 1., 1., 1., 1., 1., 1., 1., 1., 1., 1., 1., 1., 1.,\n",
       "        1., 1., 1., 1., 1., 1., 1., 1., 1., 1., 1., 1., 1., 1., 1., 1., 1.,\n",
       "        1., 1., 1., 1., 1., 1., 1., 1., 1., 1., 1., 1., 1., 1., 1., 1., 1.,\n",
       "        1., 1., 1., 1., 1., 1., 1., 1., 1., 1., 1., 1., 1., 1., 1., 1., 1.,\n",
       "        1., 1., 1., 1., 1., 1., 1., 1., 1., 1., 1., 1., 1., 1., 1., 1., 1.,\n",
       "        1., 1., 1., 1., 1., 1., 1., 1., 1., 1., 1., 1., 1., 1., 1., 1., 1.,\n",
       "        1., 1., 1., 1., 1., 1., 1., 1., 1., 1., 1., 1., 1., 1., 1., 1., 1.,\n",
       "        1., 1., 1., 1., 1., 1., 1., 1., 1., 1., 1., 1., 1., 1., 1., 1., 1.,\n",
       "        1., 1., 1., 1., 1., 1., 1., 1., 1., 1., 1., 1., 1., 1., 1., 1., 1.,\n",
       "        1., 1., 1., 1., 1., 1., 1., 1., 1., 1., 1., 1., 1., 1., 1., 1., 1.,\n",
       "        1., 1., 1., 1., 1., 1., 1., 1., 1., 1., 1., 1., 1., 1., 1., 1., 1.,\n",
       "        1., 1., 1., 1., 1., 1., 1., 1., 1., 1., 1., 1., 1., 1., 1., 1., 1.,\n",
       "        1., 1., 1., 1., 1., 1., 1., 1., 1., 1., 1., 1., 1., 1., 1., 1., 1.,\n",
       "        1., 1., 1., 1., 1., 1., 1., 1., 1., 1., 1., 1., 1., 1., 1., 1., 1.,\n",
       "        1., 1., 1., 1., 1., 1., 1., 1., 1., 1., 1., 1., 1., 1., 1., 1., 1.,\n",
       "        1., 1., 1., 1., 1., 1., 1., 1., 1., 1., 1., 1., 1., 1., 1., 1., 1.,\n",
       "        1., 1., 1., 1., 1., 1., 1., 1., 1., 1., 1., 1., 1., 1., 1., 1., 1.,\n",
       "        1., 1., 1., 1., 1., 1., 1., 1., 1., 1., 1., 1., 1., 1., 1., 1., 1.,\n",
       "        1., 1., 1., 1., 1., 1., 1., 1., 1., 1., 1., 1., 1., 1., 1., 1., 1.,\n",
       "        1., 1., 1., 1., 1., 1., 1., 1., 1., 1., 1., 1., 1., 1., 1., 1., 1.,\n",
       "        1., 1., 1., 1., 1., 1., 1.]),\n",
       " array([[-0.00764153, -0.0402022 , -0.02268855,  0.0105414 ],\n",
       "        [-0.00844557, -0.23499155, -0.02247773,  0.29598036],\n",
       "        [-0.0131454 , -0.03955648, -0.01655812, -0.00370608],\n",
       "        ...,\n",
       "        [ 0.08987086, -0.23210463,  0.02735989,  0.23227091],\n",
       "        [ 0.08522876, -0.03738408,  0.03200531, -0.05165778],\n",
       "        [ 0.08448108, -0.23294999,  0.03097215,  0.2509488 ]],\n",
       "       dtype=float32),\n",
       " array([0, 1, 0, 1, 0, 1, 0, 1, 0, 1, 0, 1, 0, 1, 0, 1, 1, 0, 1, 0, 0, 1,\n",
       "        0, 0, 1, 1, 1, 0, 0, 1, 1, 0, 1, 0, 1, 0, 1, 1, 0, 1, 0, 0, 1, 1,\n",
       "        0, 1, 1, 0, 0, 1, 0, 1, 0, 1, 0, 1, 0, 1, 0, 0, 1, 0, 1, 0, 1, 0,\n",
       "        1, 1, 0, 0, 1, 0, 0, 1, 0, 1, 0, 1, 1, 0, 0, 1, 0, 1, 0, 1, 0, 1,\n",
       "        0, 1, 1, 0, 0, 1, 0, 1, 0, 1, 1, 0, 1, 0, 1, 0, 1, 0, 0, 1, 1, 0,\n",
       "        1, 0, 1, 0, 1, 0, 0, 1, 1, 0, 1, 0, 1, 0, 1, 0, 1, 1, 0, 1, 0, 0,\n",
       "        1, 1, 0, 0, 1, 1, 0, 0, 0, 1, 1, 0, 0, 1, 1, 1, 0, 0, 1, 0, 1, 0,\n",
       "        0, 1, 0, 1, 0, 1, 0, 1, 0, 1, 0, 1, 0, 1, 0, 1, 0, 1, 0, 1, 1, 0,\n",
       "        1, 0, 0, 1, 1, 0, 1, 0, 0, 1, 1, 0, 1, 1, 0, 1, 0, 0, 1, 0, 1, 0,\n",
       "        1, 0, 1, 0, 1, 1, 0, 0, 1, 0, 1, 1, 0, 0, 1, 1, 1, 0, 0, 1, 0, 1,\n",
       "        0, 0, 1, 0, 1, 0, 1, 0, 1, 0, 1, 0, 0, 1, 1, 0, 1, 0, 0, 1, 0, 1,\n",
       "        1, 0, 0, 1, 1, 0, 0, 1, 1, 0, 1, 0, 0, 1, 1, 0, 1, 0, 0, 1, 0, 1,\n",
       "        0, 1, 0, 1, 1, 0, 1, 0, 1, 0, 1, 0, 1, 0, 1, 1, 0, 1, 0, 0, 1, 0,\n",
       "        1, 1, 0, 0, 1, 1, 0, 1, 0, 0, 1, 0, 1, 0, 1, 0, 0, 1, 1, 0, 1, 0,\n",
       "        1, 0, 0, 1, 1, 0, 0, 1, 1, 0, 1, 0, 1, 0, 0, 1, 0, 0, 1, 1, 0, 1,\n",
       "        1, 0, 0, 1, 0, 1, 0, 1, 0, 1, 0, 1, 0, 1, 0, 1, 0, 1, 1, 0, 0, 1,\n",
       "        0, 0, 1, 1, 1, 0, 1, 0, 1, 0, 1, 0, 1, 0, 0, 1, 1, 1, 0, 0, 1, 1,\n",
       "        0, 0, 1, 0, 1, 0, 1, 0, 1, 0, 0, 1, 1, 0, 1, 0, 1, 0, 0, 1, 0, 1,\n",
       "        0, 1, 1, 0, 0, 1, 0, 1, 0, 1, 1, 0, 1, 0, 1, 0, 1, 0, 1, 0, 1, 0,\n",
       "        1, 0, 1, 1, 0, 1, 0, 1, 0, 1, 0, 1, 0, 1, 0, 0, 1, 0, 1, 0, 1, 0,\n",
       "        0, 1, 1, 1, 0, 0, 1, 1, 0, 0, 1, 0, 1, 0, 1, 1, 0, 0, 1, 0, 1, 0,\n",
       "        1, 0, 0, 1, 0, 1, 0, 1, 0, 1, 0, 1, 0, 1, 0, 0, 1, 0, 1, 0, 1, 1,\n",
       "        1, 0, 0, 1, 0, 1, 0, 0, 1, 1, 0, 1, 0, 1, 0, 1]),\n",
       " array([0.73044464, 0.96003412, 0.76999774, 0.95314675, 0.79128915,\n",
       "        0.94933971, 0.79814462, 0.9492671 , 0.79197131, 0.95288145,\n",
       "        0.7719714 , 0.95947047, 0.73517517, 0.96783814, 0.67654446,\n",
       "        0.97659773, 0.40987735, 0.98969952, 0.44969111, 0.98843873,\n",
       "        0.53202261, 0.98663187, 0.45786936, 0.00943877, 0.99990834,\n",
       "        0.99564707, 0.820698  , 0.92299184, 0.11136556, 0.99884203,\n",
       "        0.94807857, 0.73787332, 0.97329022, 0.58603444, 0.98641482,\n",
       "        0.41400637, 0.99324397, 0.74414522, 0.95136575, 0.82105256,\n",
       "        0.93022883, 0.13660516, 0.99830576, 0.91274417, 0.85728949,\n",
       "        0.93227679, 0.17179672, 0.9973318 , 0.85325983, 0.92137447,\n",
       "        0.87351797, 0.90362897, 0.90087214, 0.87105093, 0.93014496,\n",
       "        0.81322545, 0.95630682, 0.71334481, 0.97606524, 0.44519431,\n",
       "        0.98579773, 0.57664477, 0.97655404, 0.69137346, 0.96243505,\n",
       "        0.78334634, 0.94102673, 0.14712401, 0.99836917, 0.92723402,\n",
       "        0.80238419, 0.96217232, 0.33345983, 0.99132331, 0.43937643,\n",
       "        0.98737838, 0.51844687, 0.98379168, 0.43290744, 0.99141336,\n",
       "        0.65942515, 0.97167485, 0.69620746, 0.96826831, 0.71055566,\n",
       "        0.96765728, 0.70483957, 0.96994195, 0.6785906 , 0.97455343,\n",
       "        0.37118972, 0.99187341, 0.62602931, 0.97981189, 0.57053722,\n",
       "        0.98471945, 0.48653144, 0.98963344, 0.62371963, 0.97458198,\n",
       "        0.68364479, 0.96813585, 0.72591844, 0.9622953 , 0.75431143,\n",
       "        0.95763944, 0.22822983, 0.99657665, 0.82870375, 0.93166462,\n",
       "        0.85526998, 0.91917252, 0.87448905, 0.90742278, 0.8884801 ,\n",
       "        0.89682994, 0.10131985, 0.99871094, 0.92929953, 0.83005504,\n",
       "        0.94459251, 0.79110489, 0.95634708, 0.74706882, 0.96560985,\n",
       "        0.69717357, 0.9730612 , 0.35946218, 0.99237647, 0.35056401,\n",
       "        0.99328957, 0.69694734, 0.96823852, 0.28507244, 0.99543142,\n",
       "        0.78665655, 0.94566258, 0.17231969, 0.99782095, 0.89531706,\n",
       "        0.12883479, 0.99774761, 0.8499882 , 0.93791632, 0.19544192,\n",
       "        0.9965518 , 0.79733631, 0.04654344, 0.99947398, 0.9720631 ,\n",
       "        0.62694098, 0.98221118, 0.50699063, 0.98937101, 0.62943638,\n",
       "        0.97296157, 0.70236495, 0.96472088, 0.74734958, 0.9582051 ,\n",
       "        0.77118164, 0.95471084, 0.77814102, 0.95491679, 0.76970825,\n",
       "        0.95872188, 0.74472348, 0.96529895, 0.69950149, 0.97333477,\n",
       "        0.62837711, 0.98139731, 0.5262697 , 0.98832113, 0.6045061 ,\n",
       "        0.97560056, 0.68251431, 0.96709074, 0.2602932 , 0.99626861,\n",
       "        0.82907321, 0.92557191, 0.87587462, 0.89695541, 0.09143408,\n",
       "        0.99897466, 0.94907353, 0.75294221, 0.9685181 , 0.35124534,\n",
       "        0.99168042, 0.39868967, 0.99070608, 0.59475576, 0.98184235,\n",
       "        0.55459665, 0.98473209, 0.50746246, 0.98750793, 0.45284917,\n",
       "        0.99010399, 0.39100742, 0.9924531 , 0.67655643, 0.9712754 ,\n",
       "        0.31600666, 0.9942979 , 0.27404838, 0.99546004, 0.77419559,\n",
       "        0.95436499, 0.22389903, 0.99640855, 0.80768825, 0.05374006,\n",
       "        0.99934679, 0.96398759, 0.69177756, 0.97627795, 0.57694878,\n",
       "        0.98639906, 0.58186807, 0.97616743, 0.69370612, 0.96230038,\n",
       "        0.7825724 , 0.94182564, 0.84965745, 0.91174859, 0.89866284,\n",
       "        0.86770977, 0.93361119, 0.19619952, 0.99626626, 0.77203232,\n",
       "        0.96229959, 0.70651266, 0.97343222, 0.37891394, 0.99104083,\n",
       "        0.40940441, 0.9905079 , 0.59242204, 0.98196859, 0.4487452 ,\n",
       "        0.9892645 , 0.57053055, 0.98293603, 0.45437788, 0.98937448,\n",
       "        0.58101456, 0.98161882, 0.57237512, 0.98278371, 0.45175651,\n",
       "        0.98950156, 0.5843644 , 0.98133778, 0.57657899, 0.98245894,\n",
       "        0.44657864, 0.98973727, 0.40956164, 0.99171601, 0.3434874 ,\n",
       "        0.99413949, 0.25623624, 0.9963928 , 0.83585582, 0.92096955,\n",
       "        0.8845451 , 0.88713337, 0.91827636, 0.84398295, 0.94195329,\n",
       "        0.79000467, 0.95884739, 0.72367184, 0.97107473, 0.35610945,\n",
       "        0.99202662, 0.37462341, 0.9920839 , 0.64632169, 0.9761915 ,\n",
       "        0.63504903, 0.97756461, 0.38203926, 0.99230962, 0.66624541,\n",
       "        0.97249761, 0.31828912, 0.99459017, 0.24597593, 0.99652815,\n",
       "        0.8397536 , 0.91899187, 0.88801825, 0.88215228, 0.92349024,\n",
       "        0.83006617, 0.94916517, 0.24275181, 0.99514941, 0.72411565,\n",
       "        0.97032862, 0.65410627, 0.97890359, 0.56526084, 0.98576985,\n",
       "        0.541783  , 0.98229661, 0.41233057, 0.99204822, 0.67472949,\n",
       "        0.97001208, 0.29389713, 0.99519996, 0.22688607, 0.99675958,\n",
       "        0.15855344, 0.99801713, 0.90163506, 0.86878157, 0.92880927,\n",
       "        0.17181204, 0.99715678, 0.83542774, 0.9358198 , 0.83480554,\n",
       "        0.06565791, 0.99913063, 0.94696837, 0.79860493, 0.94971568,\n",
       "        0.7937647 , 0.94992833, 0.79717574, 0.94769302, 0.80845797,\n",
       "        0.94268818, 0.82670026, 0.93410281, 0.85043222, 0.92041274,\n",
       "        0.87762412, 0.89894859, 0.90581263, 0.13483383, 0.99774692,\n",
       "        0.85442483, 0.93435723, 0.81588998, 0.04852758, 0.99949582,\n",
       "        0.97566523, 0.43414757, 0.98691823, 0.54421429, 0.98056745,\n",
       "        0.63307991, 0.97307134, 0.70052749, 0.96484783, 0.75007658,\n",
       "        0.95641507, 0.21413016, 0.99700957, 0.85430589, 0.0861943 ,\n",
       "        0.9986788 , 0.91400198, 0.87850115, 0.0932079 , 0.99872591,\n",
       "        0.92536953, 0.84619401, 0.93513712, 0.82354522, 0.94518329,\n",
       "        0.79346084, 0.95514991, 0.75338755, 0.96465623, 0.29987251,\n",
       "        0.99406477, 0.6988979 , 0.97157957, 0.66185192, 0.97651179,\n",
       "        0.61047842, 0.9816039 , 0.4574652 , 0.98825287, 0.46554616,\n",
       "        0.98861802, 0.44210374, 0.9902682 , 0.61176415, 0.97834185,\n",
       "        0.37788127, 0.99277812, 0.31168598, 0.99495781, 0.22715447,\n",
       "        0.99694582, 0.85862481, 0.90629689, 0.90318528, 0.86445537,\n",
       "        0.93343572, 0.81036526, 0.954232  , 0.74223102, 0.96872762,\n",
       "        0.65887817, 0.97892979, 0.56078888, 0.98612367, 0.45150781,\n",
       "        0.99115328, 0.66137136, 0.97061837, 0.70753936, 0.96626069,\n",
       "        0.72316931, 0.96596965, 0.71178578, 0.96977528, 0.67170472,\n",
       "        0.9764121 , 0.59708407, 0.98392372, 0.51734698, 0.98316508,\n",
       "        0.5919113 , 0.97777223, 0.65455059, 0.97158461, 0.70643654,\n",
       "        0.03540203, 0.99951111, 0.96786967, 0.29097871, 0.99509392,\n",
       "        0.76638957, 0.95354163, 0.20510891, 0.9971547 , 0.86072701,\n",
       "        0.90870209, 0.89750839, 0.87507998, 0.9259523 , 0.82965606,\n",
       "        0.0522092 , 0.99945716, 0.97359793, 0.59217605, 0.98576784,\n",
       "        0.42957916, 0.99277776, 0.26825177, 0.99659868, 0.85863944,\n",
       "        0.89803626, 0.91648854, 0.8356929 , 0.94836638, 0.75876844,\n",
       "        0.96653949, 0.67274391, 0.97739011, 0.58391788, 0.98418961,\n",
       "        0.49755809, 0.98865265, 0.58293649, 0.98076032, 0.58351712,\n",
       "        0.98258516, 0.53379827, 0.98709753, 0.5676464 , 0.02044418,\n",
       "        0.99970703, 0.97926974, 0.62582336, 0.97584641, 0.66478669,\n",
       "        0.97106725, 0.29193389, 0.99561335, 0.80728796, 0.93272438,\n",
       "        0.87062458, 0.8936071 , 0.91958198, 0.82701458, 0.95414254]))"
      ]
     },
     "execution_count": 16,
     "metadata": {},
     "output_type": "execute_result"
    }
   ],
   "source": [
    "run_episode(env, policy, render=False)\n"
   ]
  },
  {
   "cell_type": "code",
   "execution_count": null,
   "id": "2b4f72ab",
   "metadata": {},
   "outputs": [],
   "source": []
  }
 ],
 "metadata": {
  "kernelspec": {
   "display_name": "Python 3 (ipykernel)",
   "language": "python",
   "name": "python3"
  },
  "language_info": {
   "codemirror_mode": {
    "name": "ipython",
    "version": 3
   },
   "file_extension": ".py",
   "mimetype": "text/x-python",
   "name": "python",
   "nbconvert_exporter": "python",
   "pygments_lexer": "ipython3",
   "version": "3.10.4"
  }
 },
 "nbformat": 4,
 "nbformat_minor": 5
}
